{
 "cells": [
  {
   "cell_type": "code",
   "execution_count": 1,
   "id": "f8e0429e",
   "metadata": {},
   "outputs": [],
   "source": [
    "import pandas as pd"
   ]
  },
  {
   "cell_type": "code",
   "execution_count": 32,
   "id": "e340b71a",
   "metadata": {},
   "outputs": [],
   "source": [
    "rels = pd.read_csv(\"Relationships_2010to2020/RelationshipFiles_TX_2010to2020.csv\", sep='|')\n",
    "TractList = pd.read_excel(\"TractList_BR_2019.xlsx\")"
   ]
  },
  {
   "cell_type": "code",
   "execution_count": 33,
   "id": "fb64d982",
   "metadata": {},
   "outputs": [],
   "source": [
    "merged = pd.merge(TractList, rels, left_on=\"Geoid\", right_on=\"GEOID_TRACT_10\")"
   ]
  },
  {
   "cell_type": "code",
   "execution_count": 34,
   "id": "d2f8b1bf",
   "metadata": {},
   "outputs": [
    {
     "name": "stderr",
     "output_type": "stream",
     "text": [
      "C:\\Users\\tharry\\Anaconda3\\lib\\site-packages\\pandas\\core\\frame.py:4441: SettingWithCopyWarning: \n",
      "A value is trying to be set on a copy of a slice from a DataFrame\n",
      "\n",
      "See the caveats in the documentation: https://pandas.pydata.org/pandas-docs/stable/user_guide/indexing.html#returning-a-view-versus-a-copy\n",
      "  return super().rename(\n",
      "<ipython-input-34-0fdcd712fccf>:3: SettingWithCopyWarning: \n",
      "A value is trying to be set on a copy of a slice from a DataFrame.\n",
      "Try using .loc[row_indexer,col_indexer] = value instead\n",
      "\n",
      "See the caveats in the documentation: https://pandas.pydata.org/pandas-docs/stable/user_guide/indexing.html#returning-a-view-versus-a-copy\n",
      "  result['Geoid'] = result['Geoid'].astype(str)\n",
      "<ipython-input-34-0fdcd712fccf>:4: SettingWithCopyWarning: \n",
      "A value is trying to be set on a copy of a slice from a DataFrame.\n",
      "Try using .loc[row_indexer,col_indexer] = value instead\n",
      "\n",
      "See the caveats in the documentation: https://pandas.pydata.org/pandas-docs/stable/user_guide/indexing.html#returning-a-view-versus-a-copy\n",
      "  result['Tractce'] = result['Geoid'].str[5:]\n"
     ]
    },
    {
     "data": {
      "text/html": [
       "<div>\n",
       "<style scoped>\n",
       "    .dataframe tbody tr th:only-of-type {\n",
       "        vertical-align: middle;\n",
       "    }\n",
       "\n",
       "    .dataframe tbody tr th {\n",
       "        vertical-align: top;\n",
       "    }\n",
       "\n",
       "    .dataframe thead th {\n",
       "        text-align: right;\n",
       "    }\n",
       "</style>\n",
       "<table border=\"1\" class=\"dataframe\">\n",
       "  <thead>\n",
       "    <tr style=\"text-align: right;\">\n",
       "      <th></th>\n",
       "      <th>Neighborhood</th>\n",
       "      <th>Geoid</th>\n",
       "      <th>Tractce</th>\n",
       "    </tr>\n",
       "  </thead>\n",
       "  <tbody>\n",
       "    <tr>\n",
       "      <th>0</th>\n",
       "      <td>Pasadena</td>\n",
       "      <td>48201320800</td>\n",
       "      <td>320800</td>\n",
       "    </tr>\n",
       "    <tr>\n",
       "      <th>1</th>\n",
       "      <td>Pasadena</td>\n",
       "      <td>48201320901</td>\n",
       "      <td>320901</td>\n",
       "    </tr>\n",
       "    <tr>\n",
       "      <th>2</th>\n",
       "      <td>Pasadena</td>\n",
       "      <td>48201320902</td>\n",
       "      <td>320902</td>\n",
       "    </tr>\n",
       "    <tr>\n",
       "      <th>3</th>\n",
       "      <td>Pasadena</td>\n",
       "      <td>48201321401</td>\n",
       "      <td>321401</td>\n",
       "    </tr>\n",
       "    <tr>\n",
       "      <th>4</th>\n",
       "      <td>Pasadena</td>\n",
       "      <td>48201321401</td>\n",
       "      <td>321401</td>\n",
       "    </tr>\n",
       "    <tr>\n",
       "      <th>...</th>\n",
       "      <td>...</td>\n",
       "      <td>...</td>\n",
       "      <td>...</td>\n",
       "    </tr>\n",
       "    <tr>\n",
       "      <th>113</th>\n",
       "      <td>East End</td>\n",
       "      <td>48201311400</td>\n",
       "      <td>311400</td>\n",
       "    </tr>\n",
       "    <tr>\n",
       "      <th>114</th>\n",
       "      <td>East End</td>\n",
       "      <td>48201311502</td>\n",
       "      <td>311502</td>\n",
       "    </tr>\n",
       "    <tr>\n",
       "      <th>115</th>\n",
       "      <td>East End</td>\n",
       "      <td>48201311501</td>\n",
       "      <td>311501</td>\n",
       "    </tr>\n",
       "    <tr>\n",
       "      <th>116</th>\n",
       "      <td>East End</td>\n",
       "      <td>48201311502</td>\n",
       "      <td>311502</td>\n",
       "    </tr>\n",
       "    <tr>\n",
       "      <th>117</th>\n",
       "      <td>East End</td>\n",
       "      <td>48201311600</td>\n",
       "      <td>311600</td>\n",
       "    </tr>\n",
       "  </tbody>\n",
       "</table>\n",
       "<p>118 rows × 3 columns</p>\n",
       "</div>"
      ],
      "text/plain": [
       "    Neighborhood        Geoid Tractce\n",
       "0       Pasadena  48201320800  320800\n",
       "1       Pasadena  48201320901  320901\n",
       "2       Pasadena  48201320902  320902\n",
       "3       Pasadena  48201321401  321401\n",
       "4       Pasadena  48201321401  321401\n",
       "..           ...          ...     ...\n",
       "113     East End  48201311400  311400\n",
       "114     East End  48201311502  311502\n",
       "115     East End  48201311501  311501\n",
       "116     East End  48201311502  311502\n",
       "117     East End  48201311600  311600\n",
       "\n",
       "[118 rows x 3 columns]"
      ]
     },
     "execution_count": 34,
     "metadata": {},
     "output_type": "execute_result"
    }
   ],
   "source": [
    "result = merged[['Neighborhood', 'GEOID_TRACT_20']]\n",
    "result.rename(columns={'GEOID_TRACT_20':'Geoid'}, inplace=True)\n",
    "result['Geoid'] = result['Geoid'].astype(str)\n",
    "result['Tractce'] = result['Geoid'].str[5:]\n",
    "result"
   ]
  },
  {
   "cell_type": "code",
   "execution_count": 37,
   "id": "0b5b2458",
   "metadata": {},
   "outputs": [],
   "source": [
    "with pd.ExcelWriter('TractList_BR_2020.xlsx') as writer:  \n",
    "    result.to_excel(writer, sheet_name=\"TractList\", header=True)"
   ]
  },
  {
   "cell_type": "code",
   "execution_count": 36,
   "id": "52184019",
   "metadata": {},
   "outputs": [],
   "source": [
    "result.to_csv(\"TractList_BR_2020.csv\")"
   ]
  },
  {
   "cell_type": "code",
   "execution_count": null,
   "id": "59f3bd3d",
   "metadata": {},
   "outputs": [],
   "source": []
  }
 ],
 "metadata": {
  "kernelspec": {
   "display_name": "Python 3",
   "language": "python",
   "name": "python3"
  },
  "language_info": {
   "codemirror_mode": {
    "name": "ipython",
    "version": 3
   },
   "file_extension": ".py",
   "mimetype": "text/x-python",
   "name": "python",
   "nbconvert_exporter": "python",
   "pygments_lexer": "ipython3",
   "version": "3.8.8"
  }
 },
 "nbformat": 4,
 "nbformat_minor": 5
}
